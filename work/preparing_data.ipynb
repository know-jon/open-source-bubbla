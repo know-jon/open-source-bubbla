{
 "cells": [
  {
   "cell_type": "code",
   "execution_count": 1,
   "id": "dd1b3e53-3bab-49f5-9be5-cfa1cc18dd44",
   "metadata": {},
   "outputs": [
    {
     "name": "stdout",
     "output_type": "stream",
     "text": [
      "Requirement already satisfied: polars in /opt/conda/lib/python3.11/site-packages (0.19.19)\n",
      "Requirement already satisfied: xlsx2csv in /opt/conda/lib/python3.11/site-packages (0.8.2)\n",
      "Requirement already satisfied: xlsxwriter in /opt/conda/lib/python3.11/site-packages (3.1.9)\n",
      "Requirement already satisfied: seaborn in /opt/conda/lib/python3.11/site-packages (0.13.0)\n",
      "Requirement already satisfied: pyarrow in /opt/conda/lib/python3.11/site-packages (14.0.1)\n",
      "Requirement already satisfied: numpy in /opt/conda/lib/python3.11/site-packages (1.26.2)\n",
      "Requirement already satisfied: datapackage in /opt/conda/lib/python3.11/site-packages (1.15.2)\n",
      "Requirement already satisfied: duckdb in /opt/conda/lib/python3.11/site-packages (0.9.2)\n",
      "Collecting altair\n",
      "  Obtaining dependency information for altair from https://files.pythonhosted.org/packages/c5/e4/7fcceef127badbb0d644d730d992410e4f3799b295c9964a172f92a469c7/altair-5.2.0-py3-none-any.whl.metadata\n",
      "  Downloading altair-5.2.0-py3-none-any.whl.metadata (8.7 kB)\n",
      "Requirement already satisfied: pandas>=1.2 in /opt/conda/lib/python3.11/site-packages (from seaborn) (2.1.4)\n",
      "Requirement already satisfied: matplotlib!=3.6.1,>=3.3 in /opt/conda/lib/python3.11/site-packages (from seaborn) (3.8.2)\n",
      "Requirement already satisfied: six>=1.10 in /opt/conda/lib/python3.11/site-packages (from datapackage) (1.16.0)\n",
      "Requirement already satisfied: click>=6.7 in /opt/conda/lib/python3.11/site-packages (from datapackage) (8.1.7)\n",
      "Requirement already satisfied: chardet>=3.0 in /opt/conda/lib/python3.11/site-packages (from datapackage) (5.2.0)\n",
      "Requirement already satisfied: requests>=2.8 in /opt/conda/lib/python3.11/site-packages (from datapackage) (2.31.0)\n",
      "Requirement already satisfied: jsonschema>=2.5 in /opt/conda/lib/python3.11/site-packages (from datapackage) (4.19.0)\n",
      "Requirement already satisfied: unicodecsv>=0.14 in /opt/conda/lib/python3.11/site-packages (from datapackage) (0.14.1)\n",
      "Requirement already satisfied: jsonpointer>=1.10 in /opt/conda/lib/python3.11/site-packages (from datapackage) (2.0)\n",
      "Requirement already satisfied: tableschema>=1.12.1 in /opt/conda/lib/python3.11/site-packages (from datapackage) (1.20.2)\n",
      "Requirement already satisfied: tabulator>=1.29 in /opt/conda/lib/python3.11/site-packages (from datapackage) (1.53.5)\n",
      "Requirement already satisfied: jinja2 in /opt/conda/lib/python3.11/site-packages (from altair) (3.1.2)\n",
      "Requirement already satisfied: packaging in /opt/conda/lib/python3.11/site-packages (from altair) (23.1)\n",
      "Requirement already satisfied: toolz in /opt/conda/lib/python3.11/site-packages (from altair) (0.12.0)\n",
      "Requirement already satisfied: attrs>=22.2.0 in /opt/conda/lib/python3.11/site-packages (from jsonschema>=2.5->datapackage) (23.1.0)\n",
      "Requirement already satisfied: jsonschema-specifications>=2023.03.6 in /opt/conda/lib/python3.11/site-packages (from jsonschema>=2.5->datapackage) (2023.7.1)\n",
      "Requirement already satisfied: referencing>=0.28.4 in /opt/conda/lib/python3.11/site-packages (from jsonschema>=2.5->datapackage) (0.30.2)\n",
      "Requirement already satisfied: rpds-py>=0.7.1 in /opt/conda/lib/python3.11/site-packages (from jsonschema>=2.5->datapackage) (0.9.2)\n",
      "Requirement already satisfied: contourpy>=1.0.1 in /opt/conda/lib/python3.11/site-packages (from matplotlib!=3.6.1,>=3.3->seaborn) (1.2.0)\n",
      "Requirement already satisfied: cycler>=0.10 in /opt/conda/lib/python3.11/site-packages (from matplotlib!=3.6.1,>=3.3->seaborn) (0.12.1)\n",
      "Requirement already satisfied: fonttools>=4.22.0 in /opt/conda/lib/python3.11/site-packages (from matplotlib!=3.6.1,>=3.3->seaborn) (4.46.0)\n",
      "Requirement already satisfied: kiwisolver>=1.3.1 in /opt/conda/lib/python3.11/site-packages (from matplotlib!=3.6.1,>=3.3->seaborn) (1.4.5)\n",
      "Requirement already satisfied: pillow>=8 in /opt/conda/lib/python3.11/site-packages (from matplotlib!=3.6.1,>=3.3->seaborn) (10.1.0)\n",
      "Requirement already satisfied: pyparsing>=2.3.1 in /opt/conda/lib/python3.11/site-packages (from matplotlib!=3.6.1,>=3.3->seaborn) (3.1.1)\n",
      "Requirement already satisfied: python-dateutil>=2.7 in /opt/conda/lib/python3.11/site-packages (from matplotlib!=3.6.1,>=3.3->seaborn) (2.8.2)\n",
      "Requirement already satisfied: pytz>=2020.1 in /opt/conda/lib/python3.11/site-packages (from pandas>=1.2->seaborn) (2023.3)\n",
      "Requirement already satisfied: tzdata>=2022.1 in /opt/conda/lib/python3.11/site-packages (from pandas>=1.2->seaborn) (2023.3)\n",
      "Requirement already satisfied: charset-normalizer<4,>=2 in /opt/conda/lib/python3.11/site-packages (from requests>=2.8->datapackage) (3.2.0)\n",
      "Requirement already satisfied: idna<4,>=2.5 in /opt/conda/lib/python3.11/site-packages (from requests>=2.8->datapackage) (3.4)\n",
      "Requirement already satisfied: urllib3<3,>=1.21.1 in /opt/conda/lib/python3.11/site-packages (from requests>=2.8->datapackage) (2.0.4)\n",
      "Requirement already satisfied: certifi>=2017.4.17 in /opt/conda/lib/python3.11/site-packages (from requests>=2.8->datapackage) (2023.7.22)\n",
      "Requirement already satisfied: cached-property>=1.5 in /opt/conda/lib/python3.11/site-packages (from tableschema>=1.12.1->datapackage) (1.5.2)\n",
      "Requirement already satisfied: isodate>=0.5.4 in /opt/conda/lib/python3.11/site-packages (from tableschema>=1.12.1->datapackage) (0.6.1)\n",
      "Requirement already satisfied: rfc3986>=1.1.0 in /opt/conda/lib/python3.11/site-packages (from tableschema>=1.12.1->datapackage) (2.0.0)\n",
      "Requirement already satisfied: boto3>=1.9 in /opt/conda/lib/python3.11/site-packages (from tabulator>=1.29->datapackage) (1.33.13)\n",
      "Requirement already satisfied: ijson>=3.0.3 in /opt/conda/lib/python3.11/site-packages (from tabulator>=1.29->datapackage) (3.2.3)\n",
      "Requirement already satisfied: jsonlines>=1.1 in /opt/conda/lib/python3.11/site-packages (from tabulator>=1.29->datapackage) (4.0.0)\n",
      "Requirement already satisfied: sqlalchemy>=0.9.6 in /opt/conda/lib/python3.11/site-packages (from tabulator>=1.29->datapackage) (2.0.19)\n",
      "Requirement already satisfied: linear-tsv>=1.0 in /opt/conda/lib/python3.11/site-packages (from tabulator>=1.29->datapackage) (1.1.0)\n",
      "Requirement already satisfied: xlrd>=1.0 in /opt/conda/lib/python3.11/site-packages (from tabulator>=1.29->datapackage) (2.0.1)\n",
      "Requirement already satisfied: openpyxl>=2.6 in /opt/conda/lib/python3.11/site-packages (from tabulator>=1.29->datapackage) (3.1.2)\n",
      "Requirement already satisfied: MarkupSafe>=2.0 in /opt/conda/lib/python3.11/site-packages (from jinja2->altair) (2.1.3)\n",
      "Requirement already satisfied: botocore<1.34.0,>=1.33.13 in /opt/conda/lib/python3.11/site-packages (from boto3>=1.9->tabulator>=1.29->datapackage) (1.33.13)\n",
      "Requirement already satisfied: jmespath<2.0.0,>=0.7.1 in /opt/conda/lib/python3.11/site-packages (from boto3>=1.9->tabulator>=1.29->datapackage) (1.0.1)\n",
      "Requirement already satisfied: s3transfer<0.9.0,>=0.8.2 in /opt/conda/lib/python3.11/site-packages (from boto3>=1.9->tabulator>=1.29->datapackage) (0.8.2)\n",
      "Requirement already satisfied: et-xmlfile in /opt/conda/lib/python3.11/site-packages (from openpyxl>=2.6->tabulator>=1.29->datapackage) (1.1.0)\n",
      "Requirement already satisfied: typing-extensions>=4.2.0 in /opt/conda/lib/python3.11/site-packages (from sqlalchemy>=0.9.6->tabulator>=1.29->datapackage) (4.7.1)\n",
      "Requirement already satisfied: greenlet!=0.4.17 in /opt/conda/lib/python3.11/site-packages (from sqlalchemy>=0.9.6->tabulator>=1.29->datapackage) (2.0.2)\n",
      "Downloading altair-5.2.0-py3-none-any.whl (996 kB)\n",
      "\u001b[2K   \u001b[90m━━━━━━━━━━━━━━━━━━━━━━━━━━━━━━━━━━━━━━━━\u001b[0m \u001b[32m996.9/996.9 kB\u001b[0m \u001b[31m7.8 MB/s\u001b[0m eta \u001b[36m0:00:00\u001b[0ma \u001b[36m0:00:01\u001b[0m\n",
      "\u001b[?25hInstalling collected packages: altair\n",
      "Successfully installed altair-5.2.0\n"
     ]
    }
   ],
   "source": [
    "!pip install polars xlsx2csv xlsxwriter seaborn pyarrow numpy datapackage duckdb altair"
   ]
  },
  {
   "cell_type": "code",
   "execution_count": 10,
   "id": "1ee7e193-29b8-42a4-850b-c585e8514d59",
   "metadata": {},
   "outputs": [
    {
     "data": {
      "text/html": [
       "<div><style>\n",
       ".dataframe > thead > tr,\n",
       ".dataframe > tbody > tr {\n",
       "  text-align: right;\n",
       "  white-space: pre-wrap;\n",
       "}\n",
       "</style>\n",
       "<small>shape: (109_049, 5)</small><table border=\"1\" class=\"dataframe\"><thead><tr><th>Column1</th><th>Country/Currency</th><th>currency</th><th>value</th><th>date</th></tr><tr><td>i64</td><td>str</td><td>str</td><td>f64</td><td>str</td></tr></thead><tbody><tr><td>0</td><td>&quot;Australia Doll…</td><td>&quot;AUD&quot;</td><td>1.581627</td><td>&quot;17/12/2021&quot;</td></tr><tr><td>1</td><td>&quot;Great Britain …</td><td>&quot;GBP&quot;</td><td>0.851619</td><td>&quot;17/12/2021&quot;</td></tr><tr><td>2</td><td>&quot;Euro&quot;</td><td>&quot;EUR&quot;</td><td>1.0</td><td>&quot;17/12/2021&quot;</td></tr><tr><td>3</td><td>&quot;Japan Yen&quot;</td><td>&quot;JPY&quot;</td><td>128.301759</td><td>&quot;17/12/2021&quot;</td></tr><tr><td>4</td><td>&quot;Switzerland Fr…</td><td>&quot;CHF&quot;</td><td>1.041015</td><td>&quot;17/12/2021&quot;</td></tr><tr><td>5</td><td>&quot;USA Dollar&quot;</td><td>&quot;USD&quot;</td><td>1.132548</td><td>&quot;17/12/2021&quot;</td></tr><tr><td>6</td><td>&quot;Afghanistan Af…</td><td>&quot;AFN&quot;</td><td>115.81055</td><td>&quot;17/12/2021&quot;</td></tr><tr><td>7</td><td>&quot;Albania Lek&quot;</td><td>&quot;ALL&quot;</td><td>120.855126</td><td>&quot;17/12/2021&quot;</td></tr><tr><td>8</td><td>&quot;Algeria Dinar&quot;</td><td>&quot;DZD&quot;</td><td>157.243849</td><td>&quot;17/12/2021&quot;</td></tr><tr><td>9</td><td>&quot;Angola Kwanza&quot;</td><td>&quot;AOA&quot;</td><td>637.752325</td><td>&quot;17/12/2021&quot;</td></tr><tr><td>10</td><td>&quot;Argentina Peso…</td><td>&quot;ARS&quot;</td><td>115.479548</td><td>&quot;17/12/2021&quot;</td></tr><tr><td>11</td><td>&quot;Armenia Dram&quot;</td><td>&quot;AMD&quot;</td><td>557.922979</td><td>&quot;17/12/2021&quot;</td></tr><tr><td>&hellip;</td><td>&hellip;</td><td>&hellip;</td><td>&hellip;</td><td>&hellip;</td></tr><tr><td>109037</td><td>&quot;Tonga Pa&#x27;anga&quot;</td><td>&quot;TOP&quot;</td><td>2.553735</td><td>&quot;13/12/2023&quot;</td></tr><tr><td>109038</td><td>&quot;Trinidad/Tobag…</td><td>&quot;TTD&quot;</td><td>7.329942</td><td>&quot;13/12/2023&quot;</td></tr><tr><td>109039</td><td>&quot;Tunisia Dinar&quot;</td><td>&quot;TND&quot;</td><td>3.380005</td><td>&quot;13/12/2023&quot;</td></tr><tr><td>109040</td><td>&quot;Turkish New Li…</td><td>&quot;TRY&quot;</td><td>31.349921</td><td>&quot;13/12/2023&quot;</td></tr><tr><td>109041</td><td>&quot;Uganda Shillin…</td><td>&quot;UGX&quot;</td><td>4107.088156</td><td>&quot;13/12/2023&quot;</td></tr><tr><td>109042</td><td>&quot;Ukraine Hryvni…</td><td>&quot;UAH&quot;</td><td>39.963618</td><td>&quot;13/12/2023&quot;</td></tr><tr><td>109043</td><td>&quot;Uruguay Peso&quot;</td><td>&quot;UYU&quot;</td><td>42.471253</td><td>&quot;13/12/2023&quot;</td></tr><tr><td>109044</td><td>&quot;United Arab Em…</td><td>&quot;AED&quot;</td><td>3.965913</td><td>&quot;13/12/2023&quot;</td></tr><tr><td>109045</td><td>&quot;Vanuatu Vatu&quot;</td><td>&quot;VUV&quot;</td><td>129.796248</td><td>&quot;13/12/2023&quot;</td></tr><tr><td>109046</td><td>&quot;Vietnam Dong&quot;</td><td>&quot;VND&quot;</td><td>26209.078687</td><td>&quot;13/12/2023&quot;</td></tr><tr><td>109047</td><td>&quot;Yemen Rial&quot;</td><td>&quot;YER&quot;</td><td>270.325017</td><td>&quot;13/12/2023&quot;</td></tr><tr><td>109048</td><td>&quot;Zambia Kwacha&quot;</td><td>&quot;ZMK&quot;</td><td>9720.363324</td><td>&quot;13/12/2023&quot;</td></tr></tbody></table></div>"
      ],
      "text/plain": [
       "shape: (109_049, 5)\n",
       "┌─────────┬─────────────────────┬──────────┬──────────────┬────────────┐\n",
       "│ Column1 ┆ Country/Currency    ┆ currency ┆ value        ┆ date       │\n",
       "│ ---     ┆ ---                 ┆ ---      ┆ ---          ┆ ---        │\n",
       "│ i64     ┆ str                 ┆ str      ┆ f64          ┆ str        │\n",
       "╞═════════╪═════════════════════╪══════════╪══════════════╪════════════╡\n",
       "│ 0       ┆ Australia Dollar    ┆ AUD      ┆ 1.581627     ┆ 17/12/2021 │\n",
       "│ 1       ┆ Great Britain Pound ┆ GBP      ┆ 0.851619     ┆ 17/12/2021 │\n",
       "│ 2       ┆ Euro                ┆ EUR      ┆ 1.0          ┆ 17/12/2021 │\n",
       "│ 3       ┆ Japan Yen           ┆ JPY      ┆ 128.301759   ┆ 17/12/2021 │\n",
       "│ …       ┆ …                   ┆ …        ┆ …            ┆ …          │\n",
       "│ 109045  ┆ Vanuatu Vatu        ┆ VUV      ┆ 129.796248   ┆ 13/12/2023 │\n",
       "│ 109046  ┆ Vietnam Dong        ┆ VND      ┆ 26209.078687 ┆ 13/12/2023 │\n",
       "│ 109047  ┆ Yemen Rial          ┆ YER      ┆ 270.325017   ┆ 13/12/2023 │\n",
       "│ 109048  ┆ Zambia Kwacha       ┆ ZMK      ┆ 9720.363324  ┆ 13/12/2023 │\n",
       "└─────────┴─────────────────────┴──────────┴──────────────┴────────────┘"
      ]
     },
     "execution_count": 10,
     "metadata": {},
     "output_type": "execute_result"
    }
   ],
   "source": [
    "import polars as pl\n",
    "# DENNA laddade jag ner från https://www.kaggle.com/datasets/ruchi798/currency-exchange-rates och gjorde om till excel fil för demo\n",
    "pl.read_excel(\"./data/currencies.xlsx\")"
   ]
  },
  {
   "cell_type": "code",
   "execution_count": 16,
   "id": "747816db-327a-4b4a-9195-975d1b92b75f",
   "metadata": {},
   "outputs": [],
   "source": [
    "pl.read_csv(\"./data/exchange_rates.csv\").with_columns(pl.col('date').str.to_datetime(\"%d/%m/%Y\")).write_parquet(\"./data/currencies.parquet\")"
   ]
  },
  {
   "cell_type": "code",
   "execution_count": 27,
   "id": "5d3c2416-3bd2-4c9e-a3f4-7cdba14954b7",
   "metadata": {},
   "outputs": [],
   "source": [
    "import datapackage\n",
    "\n",
    "\n",
    "data_url = 'https://datahub.io/core/currency-codes/datapackage.json'\n",
    "\n",
    "# to load Data Package into storage\n",
    "package = datapackage.Package(data_url)\n",
    "\n",
    "# to load only tabular data\n",
    "resources = package.resources\n",
    "for resource in resources:\n",
    "    if resource.tabular:\n",
    "        data = pl.read_csv(resource.descriptor['path'], null_values=['-'])\n",
    "        data.write_parquet(\"output/currency_codes_iso4217.parquet\")"
   ]
  },
  {
   "cell_type": "code",
   "execution_count": 31,
   "id": "65678e8f-3e8e-4083-b601-5a46691afa1b",
   "metadata": {},
   "outputs": [
    {
     "name": "stdout",
     "output_type": "stream",
     "text": [
      "['FIFA', 'Dial', 'ISO3166-1-Alpha-3', 'MARC', 'is_independent', 'ISO3166-1-numeric', 'GAUL', 'FIPS', 'WMO', 'ISO3166-1-Alpha-2', 'ITU', 'IOC', 'DS', 'UNTERM Spanish Formal', 'Global Code', 'Intermediate Region Code', 'official_name_fr', 'UNTERM French Short', 'ISO4217-currency_name', 'Developed / Developing Countries', 'UNTERM Russian Formal', 'UNTERM English Short', 'ISO4217-currency_alphabetic_code', 'Small Island Developing States (SIDS)', 'UNTERM Spanish Short', 'ISO4217-currency_numeric_code', 'UNTERM Chinese Formal', 'UNTERM French Formal', 'UNTERM Russian Short', 'M49', 'Sub-region Code', 'Region Code', 'official_name_ar', 'ISO4217-currency_minor_unit', 'UNTERM Arabic Formal', 'UNTERM Chinese Short', 'Land Locked Developing Countries (LLDC)', 'Intermediate Region Name', 'official_name_es', 'UNTERM English Formal', 'official_name_cn', 'official_name_en', 'ISO4217-currency_country_name', 'Least Developed Countries (LDC)', 'Region Name', 'UNTERM Arabic Short', 'Sub-region Name', 'official_name_ru', 'Global Name', 'Capital', 'Continent', 'TLD', 'Languages', 'Geoname ID', 'CLDR display name', 'EDGAR']\n",
      "['FIFA', 'Dial', 'ISO3166-1-Alpha-3', 'MARC', 'is_independent', 'ISO3166-1-numeric', 'GAUL', 'FIPS', 'WMO', 'ISO3166-1-Alpha-2', 'ITU', 'IOC', 'DS', 'UNTERM Spanish Formal', 'Global Code', 'Intermediate Region Code', 'official_name_fr', 'UNTERM French Short', 'ISO4217-currency_name', 'Developed / Developing Countries', 'UNTERM Russian Formal', 'UNTERM English Short', 'ISO4217-currency_alphabetic_code', 'Small Island Developing States (SIDS)', 'UNTERM Spanish Short', 'ISO4217-currency_numeric_code', 'UNTERM Chinese Formal', 'UNTERM French Formal', 'UNTERM Russian Short', 'M49', 'Sub-region Code', 'Region Code', 'official_name_ar', 'ISO4217-currency_minor_unit', 'UNTERM Arabic Formal', 'UNTERM Chinese Short', 'Land Locked Developing Countries (LLDC)', 'Intermediate Region Name', 'official_name_es', 'UNTERM English Formal', 'official_name_cn', 'official_name_en', 'ISO4217-currency_country_name', 'Least Developed Countries (LDC)', 'Region Name', 'UNTERM Arabic Short', 'Sub-region Name', 'official_name_ru', 'Global Name', 'Capital', 'Continent', 'TLD', 'Languages', 'Geoname ID', 'CLDR display name', 'EDGAR']\n"
     ]
    }
   ],
   "source": [
    "data_url = 'https://datahub.io/core/country-codes/datapackage.json'\n",
    "\n",
    "# to load Data Package into storage\n",
    "package = datapackage.Package(data_url)\n",
    "\n",
    "# to load only tabular data\n",
    "resources = package.resources\n",
    "for resource in resources:\n",
    "    if resource.tabular:\n",
    "        data = pl.read_csv(resource.descriptor['path'],infer_schema_length=10000)\n",
    "        print(data.columns)\n",
    "        data.write_parquet(\"output/country_info_iso3666.parquet\")"
   ]
  },
  {
   "cell_type": "code",
   "execution_count": null,
   "id": "c3afca60-5446-4779-b892-06b4a4fc3eb9",
   "metadata": {},
   "outputs": [],
   "source": []
  }
 ],
 "metadata": {
  "kernelspec": {
   "display_name": "Python 3 (ipykernel)",
   "language": "python",
   "name": "python3"
  },
  "language_info": {
   "codemirror_mode": {
    "name": "ipython",
    "version": 3
   },
   "file_extension": ".py",
   "mimetype": "text/x-python",
   "name": "python",
   "nbconvert_exporter": "python",
   "pygments_lexer": "ipython3",
   "version": "3.11.4"
  }
 },
 "nbformat": 4,
 "nbformat_minor": 5
}
