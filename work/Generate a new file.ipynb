{
 "cells": [
  {
   "cell_type": "code",
   "execution_count": 1,
   "id": "ebe311fd-f87d-4d3c-b04b-217de2014d4d",
   "metadata": {},
   "outputs": [],
   "source": [
    "import polars as pl"
   ]
  },
  {
   "cell_type": "code",
   "execution_count": 2,
   "id": "c6e79176-7464-4a2f-b02c-953df734d317",
   "metadata": {},
   "outputs": [],
   "source": [
    "df = pl.read_excel(\"./data/currencies.xlsx\")"
   ]
  },
  {
   "cell_type": "code",
   "execution_count": 3,
   "id": "6232f717-c07e-4546-ad40-91356a2a7d4e",
   "metadata": {},
   "outputs": [
    {
     "data": {
      "text/plain": [
       "['Column1', 'Country/Currency', 'currency', 'value', 'date']"
      ]
     },
     "execution_count": 3,
     "metadata": {},
     "output_type": "execute_result"
    }
   ],
   "source": [
    "df.columns"
   ]
  },
  {
   "cell_type": "code",
   "execution_count": 4,
   "id": "ee38f2ff-4ae2-4af0-b4c6-51aabdd168ce",
   "metadata": {},
   "outputs": [
    {
     "data": {
      "text/html": [
       "<div><style>\n",
       ".dataframe > thead > tr,\n",
       ".dataframe > tbody > tr {\n",
       "  text-align: right;\n",
       "  white-space: pre-wrap;\n",
       "}\n",
       "</style>\n",
       "<small>shape: (5, 5)</small><table border=\"1\" class=\"dataframe\"><thead><tr><th>Column1</th><th>Country/Currency</th><th>currency</th><th>value</th><th>date</th></tr><tr><td>i64</td><td>str</td><td>str</td><td>f64</td><td>str</td></tr></thead><tbody><tr><td>0</td><td>&quot;Australia Doll…</td><td>&quot;AUD&quot;</td><td>1.581627</td><td>&quot;17/12/2021&quot;</td></tr><tr><td>1</td><td>&quot;Great Britain …</td><td>&quot;GBP&quot;</td><td>0.851619</td><td>&quot;17/12/2021&quot;</td></tr><tr><td>2</td><td>&quot;Euro&quot;</td><td>&quot;EUR&quot;</td><td>1.0</td><td>&quot;17/12/2021&quot;</td></tr><tr><td>3</td><td>&quot;Japan Yen&quot;</td><td>&quot;JPY&quot;</td><td>128.301759</td><td>&quot;17/12/2021&quot;</td></tr><tr><td>4</td><td>&quot;Switzerland Fr…</td><td>&quot;CHF&quot;</td><td>1.041015</td><td>&quot;17/12/2021&quot;</td></tr></tbody></table></div>"
      ],
      "text/plain": [
       "shape: (5, 5)\n",
       "┌─────────┬─────────────────────┬──────────┬────────────┬────────────┐\n",
       "│ Column1 ┆ Country/Currency    ┆ currency ┆ value      ┆ date       │\n",
       "│ ---     ┆ ---                 ┆ ---      ┆ ---        ┆ ---        │\n",
       "│ i64     ┆ str                 ┆ str      ┆ f64        ┆ str        │\n",
       "╞═════════╪═════════════════════╪══════════╪════════════╪════════════╡\n",
       "│ 0       ┆ Australia Dollar    ┆ AUD      ┆ 1.581627   ┆ 17/12/2021 │\n",
       "│ 1       ┆ Great Britain Pound ┆ GBP      ┆ 0.851619   ┆ 17/12/2021 │\n",
       "│ 2       ┆ Euro                ┆ EUR      ┆ 1.0        ┆ 17/12/2021 │\n",
       "│ 3       ┆ Japan Yen           ┆ JPY      ┆ 128.301759 ┆ 17/12/2021 │\n",
       "│ 4       ┆ Switzerland Franc   ┆ CHF      ┆ 1.041015   ┆ 17/12/2021 │\n",
       "└─────────┴─────────────────────┴──────────┴────────────┴────────────┘"
      ]
     },
     "execution_count": 4,
     "metadata": {},
     "output_type": "execute_result"
    }
   ],
   "source": [
    "df.head(5)"
   ]
  },
  {
   "cell_type": "code",
   "execution_count": 6,
   "id": "dfee783e-f9c1-4628-9a6d-2d5b03323301",
   "metadata": {},
   "outputs": [],
   "source": [
    "df = df.with_columns(\n",
    "    pl.col('value').diff().over(pl.col('currency')).alias('increase'),\n",
    "    pl.col('value').shift().over(pl.col('currency')).alias('previous_value')\n",
    "    ).with_columns((pl.col('value') / pl.col('previous_value')).alias('percent_change'))"
   ]
  },
  {
   "cell_type": "code",
   "execution_count": 9,
   "id": "02891dfc-e011-4127-9756-7b6f0df4b697",
   "metadata": {},
   "outputs": [
    {
     "data": {
      "text/html": [
       "<div><style>\n",
       ".dataframe > thead > tr,\n",
       ".dataframe > tbody > tr {\n",
       "  text-align: right;\n",
       "  white-space: pre-wrap;\n",
       "}\n",
       "</style>\n",
       "<small>shape: (5, 8)</small><table border=\"1\" class=\"dataframe\"><thead><tr><th>Column1</th><th>Country/Currency</th><th>currency</th><th>value</th><th>date</th><th>increase</th><th>previous_value</th><th>percent_change</th></tr><tr><td>i64</td><td>str</td><td>str</td><td>f64</td><td>str</td><td>f64</td><td>f64</td><td>f64</td></tr></thead><tbody><tr><td>109044</td><td>&quot;United Arab Em…</td><td>&quot;AED&quot;</td><td>3.965913</td><td>&quot;13/12/2023&quot;</td><td>0.012698</td><td>3.953215</td><td>1.003212</td></tr><tr><td>109045</td><td>&quot;Vanuatu Vatu&quot;</td><td>&quot;VUV&quot;</td><td>129.796248</td><td>&quot;13/12/2023&quot;</td><td>1.827085</td><td>127.969163</td><td>1.014278</td></tr><tr><td>109046</td><td>&quot;Vietnam Dong&quot;</td><td>&quot;VND&quot;</td><td>26209.078687</td><td>&quot;13/12/2023&quot;</td><td>96.684786</td><td>26112.393901</td><td>1.003703</td></tr><tr><td>109047</td><td>&quot;Yemen Rial&quot;</td><td>&quot;YER&quot;</td><td>270.325017</td><td>&quot;13/12/2023&quot;</td><td>0.858454</td><td>269.466563</td><td>1.003186</td></tr><tr><td>109048</td><td>&quot;Zambia Kwacha&quot;</td><td>&quot;ZMK&quot;</td><td>9720.363324</td><td>&quot;13/12/2023&quot;</td><td>30.875131</td><td>9689.488193</td><td>1.003186</td></tr></tbody></table></div>"
      ],
      "text/plain": [
       "shape: (5, 8)\n",
       "┌─────────┬─────────────┬──────────┬────────────┬────────────┬───────────┬────────────┬────────────┐\n",
       "│ Column1 ┆ Country/Cur ┆ currency ┆ value      ┆ date       ┆ increase  ┆ previous_v ┆ percent_ch │\n",
       "│ ---     ┆ rency       ┆ ---      ┆ ---        ┆ ---        ┆ ---       ┆ alue       ┆ ange       │\n",
       "│ i64     ┆ ---         ┆ str      ┆ f64        ┆ str        ┆ f64       ┆ ---        ┆ ---        │\n",
       "│         ┆ str         ┆          ┆            ┆            ┆           ┆ f64        ┆ f64        │\n",
       "╞═════════╪═════════════╪══════════╪════════════╪════════════╪═══════════╪════════════╪════════════╡\n",
       "│ 109044  ┆ United Arab ┆ AED      ┆ 3.965913   ┆ 13/12/2023 ┆ 0.012698  ┆ 3.953215   ┆ 1.003212   │\n",
       "│         ┆ Emirates    ┆          ┆            ┆            ┆           ┆            ┆            │\n",
       "│         ┆ Dirham      ┆          ┆            ┆            ┆           ┆            ┆            │\n",
       "│ 109045  ┆ Vanuatu     ┆ VUV      ┆ 129.796248 ┆ 13/12/2023 ┆ 1.827085  ┆ 127.969163 ┆ 1.014278   │\n",
       "│         ┆ Vatu        ┆          ┆            ┆            ┆           ┆            ┆            │\n",
       "│ 109046  ┆ Vietnam     ┆ VND      ┆ 26209.0786 ┆ 13/12/2023 ┆ 96.684786 ┆ 26112.3939 ┆ 1.003703   │\n",
       "│         ┆ Dong        ┆          ┆ 87         ┆            ┆           ┆ 01         ┆            │\n",
       "│ 109047  ┆ Yemen Rial  ┆ YER      ┆ 270.325017 ┆ 13/12/2023 ┆ 0.858454  ┆ 269.466563 ┆ 1.003186   │\n",
       "│ 109048  ┆ Zambia      ┆ ZMK      ┆ 9720.36332 ┆ 13/12/2023 ┆ 30.875131 ┆ 9689.48819 ┆ 1.003186   │\n",
       "│         ┆ Kwacha      ┆          ┆ 4          ┆            ┆           ┆ 3          ┆            │\n",
       "└─────────┴─────────────┴──────────┴────────────┴────────────┴───────────┴────────────┴────────────┘"
      ]
     },
     "execution_count": 9,
     "metadata": {},
     "output_type": "execute_result"
    }
   ],
   "source": [
    "df.tail(5)"
   ]
  },
  {
   "cell_type": "code",
   "execution_count": 10,
   "id": "6abd34ce-68ac-4943-bfbb-0769943d9617",
   "metadata": {},
   "outputs": [
    {
     "data": {
      "text/html": [
       "<div><style>\n",
       ".dataframe > thead > tr,\n",
       ".dataframe > tbody > tr {\n",
       "  text-align: right;\n",
       "  white-space: pre-wrap;\n",
       "}\n",
       "</style>\n",
       "<small>shape: (728, 8)</small><table border=\"1\" class=\"dataframe\"><thead><tr><th>Column1</th><th>Country/Currency</th><th>currency</th><th>value</th><th>date</th><th>increase</th><th>previous_value</th><th>percent_change</th></tr><tr><td>i64</td><td>str</td><td>str</td><td>f64</td><td>str</td><td>f64</td><td>f64</td><td>f64</td></tr></thead><tbody><tr><td>133</td><td>&quot;Sweden Krona&quot;</td><td>&quot;SEK&quot;</td><td>10.276823</td><td>&quot;17/12/2021&quot;</td><td>null</td><td>null</td><td>null</td></tr><tr><td>283</td><td>&quot;Sweden Krona&quot;</td><td>&quot;SEK&quot;</td><td>10.308261</td><td>&quot;18/12/2021&quot;</td><td>0.031438</td><td>10.276823</td><td>1.003059</td></tr><tr><td>433</td><td>&quot;Sweden Krona&quot;</td><td>&quot;SEK&quot;</td><td>10.308261</td><td>&quot;19/12/2021&quot;</td><td>0.0</td><td>10.308261</td><td>1.0</td></tr><tr><td>583</td><td>&quot;Sweden Krona&quot;</td><td>&quot;SEK&quot;</td><td>10.291948</td><td>&quot;20/12/2021&quot;</td><td>-0.016313</td><td>10.308261</td><td>0.998417</td></tr><tr><td>733</td><td>&quot;Sweden Krona&quot;</td><td>&quot;SEK&quot;</td><td>10.319681</td><td>&quot;21/12/2021&quot;</td><td>0.027733</td><td>10.291948</td><td>1.002695</td></tr><tr><td>883</td><td>&quot;Sweden Krona&quot;</td><td>&quot;SEK&quot;</td><td>10.308205</td><td>&quot;22/12/2021&quot;</td><td>-0.011476</td><td>10.319681</td><td>0.998888</td></tr><tr><td>1033</td><td>&quot;Sweden Krona&quot;</td><td>&quot;SEK&quot;</td><td>10.296558</td><td>&quot;23/12/2021&quot;</td><td>-0.011647</td><td>10.308205</td><td>0.99887</td></tr><tr><td>1183</td><td>&quot;Sweden Krona&quot;</td><td>&quot;SEK&quot;</td><td>10.294165</td><td>&quot;24/12/2021&quot;</td><td>-0.002393</td><td>10.296558</td><td>0.999768</td></tr><tr><td>1333</td><td>&quot;Sweden Krona&quot;</td><td>&quot;SEK&quot;</td><td>10.352077</td><td>&quot;25/12/2021&quot;</td><td>0.057912</td><td>10.294165</td><td>1.005626</td></tr><tr><td>1483</td><td>&quot;Sweden Krona&quot;</td><td>&quot;SEK&quot;</td><td>10.352077</td><td>&quot;26/12/2021&quot;</td><td>0.0</td><td>10.352077</td><td>1.0</td></tr><tr><td>1633</td><td>&quot;Sweden Krona&quot;</td><td>&quot;SEK&quot;</td><td>10.321352</td><td>&quot;27/12/2021&quot;</td><td>-0.030725</td><td>10.352077</td><td>0.997032</td></tr><tr><td>1783</td><td>&quot;Sweden Krona&quot;</td><td>&quot;SEK&quot;</td><td>10.310967</td><td>&quot;28/12/2021&quot;</td><td>-0.010385</td><td>10.321352</td><td>0.998994</td></tr><tr><td>&hellip;</td><td>&hellip;</td><td>&hellip;</td><td>&hellip;</td><td>&hellip;</td><td>&hellip;</td><td>&hellip;</td><td>&hellip;</td></tr><tr><td>107400</td><td>&quot;Sweden Krona&quot;</td><td>&quot;SEK&quot;</td><td>11.362976</td><td>&quot;02/12/2023&quot;</td><td>-0.066873</td><td>11.429849</td><td>0.994149</td></tr><tr><td>107549</td><td>&quot;Sweden Krona&quot;</td><td>&quot;SEK&quot;</td><td>11.356791</td><td>&quot;03/12/2023&quot;</td><td>-0.006185</td><td>11.362976</td><td>0.999456</td></tr><tr><td>107698</td><td>&quot;Sweden Krona&quot;</td><td>&quot;SEK&quot;</td><td>11.291399</td><td>&quot;04/12/2023&quot;</td><td>-0.065392</td><td>11.356791</td><td>0.994242</td></tr><tr><td>107847</td><td>&quot;Sweden Krona&quot;</td><td>&quot;SEK&quot;</td><td>11.299923</td><td>&quot;05/12/2023&quot;</td><td>0.008524</td><td>11.291399</td><td>1.000755</td></tr><tr><td>107996</td><td>&quot;Sweden Krona&quot;</td><td>&quot;SEK&quot;</td><td>11.316315</td><td>&quot;06/12/2023&quot;</td><td>0.016392</td><td>11.299923</td><td>1.001451</td></tr><tr><td>108144</td><td>&quot;Sweden Krona&quot;</td><td>&quot;SEK&quot;</td><td>11.27634</td><td>&quot;07/12/2023&quot;</td><td>-0.039975</td><td>11.316315</td><td>0.996467</td></tr><tr><td>108292</td><td>&quot;Sweden Krona&quot;</td><td>&quot;SEK&quot;</td><td>11.208245</td><td>&quot;08/12/2023&quot;</td><td>-0.068095</td><td>11.27634</td><td>0.993961</td></tr><tr><td>108440</td><td>&quot;Sweden Krona&quot;</td><td>&quot;SEK&quot;</td><td>11.276511</td><td>&quot;09/12/2023&quot;</td><td>0.068266</td><td>11.208245</td><td>1.006091</td></tr><tr><td>108588</td><td>&quot;Sweden Krona&quot;</td><td>&quot;SEK&quot;</td><td>11.276511</td><td>&quot;10/12/2023&quot;</td><td>0.0</td><td>11.276511</td><td>1.0</td></tr><tr><td>108736</td><td>&quot;Sweden Krona&quot;</td><td>&quot;SEK&quot;</td><td>11.268155</td><td>&quot;11/12/2023&quot;</td><td>-0.008356</td><td>11.276511</td><td>0.999259</td></tr><tr><td>108884</td><td>&quot;Sweden Krona&quot;</td><td>&quot;SEK&quot;</td><td>11.295512</td><td>&quot;12/12/2023&quot;</td><td>0.027357</td><td>11.268155</td><td>1.002428</td></tr><tr><td>109032</td><td>&quot;Sweden Krona&quot;</td><td>&quot;SEK&quot;</td><td>11.25884</td><td>&quot;13/12/2023&quot;</td><td>-0.036672</td><td>11.295512</td><td>0.996753</td></tr></tbody></table></div>"
      ],
      "text/plain": [
       "shape: (728, 8)\n",
       "┌─────────┬─────────────┬──────────┬───────────┬────────────┬───────────┬─────────────┬────────────┐\n",
       "│ Column1 ┆ Country/Cur ┆ currency ┆ value     ┆ date       ┆ increase  ┆ previous_va ┆ percent_ch │\n",
       "│ ---     ┆ rency       ┆ ---      ┆ ---       ┆ ---        ┆ ---       ┆ lue         ┆ ange       │\n",
       "│ i64     ┆ ---         ┆ str      ┆ f64       ┆ str        ┆ f64       ┆ ---         ┆ ---        │\n",
       "│         ┆ str         ┆          ┆           ┆            ┆           ┆ f64         ┆ f64        │\n",
       "╞═════════╪═════════════╪══════════╪═══════════╪════════════╪═══════════╪═════════════╪════════════╡\n",
       "│ 133     ┆ Sweden      ┆ SEK      ┆ 10.276823 ┆ 17/12/2021 ┆ null      ┆ null        ┆ null       │\n",
       "│         ┆ Krona       ┆          ┆           ┆            ┆           ┆             ┆            │\n",
       "│ 283     ┆ Sweden      ┆ SEK      ┆ 10.308261 ┆ 18/12/2021 ┆ 0.031438  ┆ 10.276823   ┆ 1.003059   │\n",
       "│         ┆ Krona       ┆          ┆           ┆            ┆           ┆             ┆            │\n",
       "│ 433     ┆ Sweden      ┆ SEK      ┆ 10.308261 ┆ 19/12/2021 ┆ 0.0       ┆ 10.308261   ┆ 1.0        │\n",
       "│         ┆ Krona       ┆          ┆           ┆            ┆           ┆             ┆            │\n",
       "│ 583     ┆ Sweden      ┆ SEK      ┆ 10.291948 ┆ 20/12/2021 ┆ -0.016313 ┆ 10.308261   ┆ 0.998417   │\n",
       "│         ┆ Krona       ┆          ┆           ┆            ┆           ┆             ┆            │\n",
       "│ …       ┆ …           ┆ …        ┆ …         ┆ …          ┆ …         ┆ …           ┆ …          │\n",
       "│ 108588  ┆ Sweden      ┆ SEK      ┆ 11.276511 ┆ 10/12/2023 ┆ 0.0       ┆ 11.276511   ┆ 1.0        │\n",
       "│         ┆ Krona       ┆          ┆           ┆            ┆           ┆             ┆            │\n",
       "│ 108736  ┆ Sweden      ┆ SEK      ┆ 11.268155 ┆ 11/12/2023 ┆ -0.008356 ┆ 11.276511   ┆ 0.999259   │\n",
       "│         ┆ Krona       ┆          ┆           ┆            ┆           ┆             ┆            │\n",
       "│ 108884  ┆ Sweden      ┆ SEK      ┆ 11.295512 ┆ 12/12/2023 ┆ 0.027357  ┆ 11.268155   ┆ 1.002428   │\n",
       "│         ┆ Krona       ┆          ┆           ┆            ┆           ┆             ┆            │\n",
       "│ 109032  ┆ Sweden      ┆ SEK      ┆ 11.25884  ┆ 13/12/2023 ┆ -0.036672 ┆ 11.295512   ┆ 0.996753   │\n",
       "│         ┆ Krona       ┆          ┆           ┆            ┆           ┆             ┆            │\n",
       "└─────────┴─────────────┴──────────┴───────────┴────────────┴───────────┴─────────────┴────────────┘"
      ]
     },
     "execution_count": 10,
     "metadata": {},
     "output_type": "execute_result"
    }
   ],
   "source": [
    "df.filter(pl.col('currency') == \"SEK\")"
   ]
  },
  {
   "cell_type": "code",
   "execution_count": 11,
   "id": "ae1e93bb-c2d8-43b4-8f92-1387f84b143e",
   "metadata": {},
   "outputs": [
    {
     "data": {
      "text/plain": [
       "<xlsxwriter.workbook.Workbook at 0x7fedecc089d0>"
      ]
     },
     "execution_count": 11,
     "metadata": {},
     "output_type": "execute_result"
    }
   ],
   "source": [
    "df.write_excel(\"./output/berikade_valutor.xlsx\")"
   ]
  },
  {
   "cell_type": "code",
   "execution_count": 12,
   "id": "8f6d6c1c-6ce2-4fa0-baad-ade50149512d",
   "metadata": {},
   "outputs": [],
   "source": [
    "df.with_columns(pl.col('date').str.to_datetime(\"%d/%m/%Y\")).write_parquet(\"./output/berikade_valutor.parquet\")"
   ]
  },
  {
   "cell_type": "code",
   "execution_count": null,
   "id": "74db5d21-2abf-4faa-8556-6956b18aad84",
   "metadata": {},
   "outputs": [],
   "source": []
  }
 ],
 "metadata": {
  "kernelspec": {
   "display_name": "Python 3 (ipykernel)",
   "language": "python",
   "name": "python3"
  },
  "language_info": {
   "codemirror_mode": {
    "name": "ipython",
    "version": 3
   },
   "file_extension": ".py",
   "mimetype": "text/x-python",
   "name": "python",
   "nbconvert_exporter": "python",
   "pygments_lexer": "ipython3",
   "version": "3.11.4"
  }
 },
 "nbformat": 4,
 "nbformat_minor": 5
}
